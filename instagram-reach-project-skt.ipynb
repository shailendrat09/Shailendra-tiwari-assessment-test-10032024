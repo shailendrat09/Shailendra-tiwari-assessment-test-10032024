{
 "cells": [
  {
   "cell_type": "code",
   "execution_count": 1,
   "id": "6321bf81",
   "metadata": {
    "_cell_guid": "b1076dfc-b9ad-4769-8c92-a6c4dae69d19",
    "_uuid": "8f2839f25d086af736a60e9eeb907d3b93b6e0e5",
    "execution": {
     "iopub.execute_input": "2024-02-15T08:41:59.295619Z",
     "iopub.status.busy": "2024-02-15T08:41:59.294306Z",
     "iopub.status.idle": "2024-02-15T08:42:00.356872Z",
     "shell.execute_reply": "2024-02-15T08:42:00.355272Z"
    },
    "papermill": {
     "duration": 1.081521,
     "end_time": "2024-02-15T08:42:00.360586",
     "exception": false,
     "start_time": "2024-02-15T08:41:59.279065",
     "status": "completed"
    },
    "tags": []
   },
   "outputs": [],
   "source": [
    "\n",
    "import numpy as np  \n",
    "import pandas as pd  \n",
    "import matplotlib.pyplot as plt\n",
    "import seaborn as sns\n",
    "\n"
   ]
  },
  {
   "cell_type": "code",
   "execution_count": 3,
   "id": "8a195531",
   "metadata": {
    "execution": {
     "iopub.execute_input": "2024-02-15T08:42:02.221897Z",
     "iopub.status.busy": "2024-02-15T08:42:02.221482Z",
     "iopub.status.idle": "2024-02-15T08:42:02.246340Z",
     "shell.execute_reply": "2024-02-15T08:42:02.245149Z"
    },
    "papermill": {
     "duration": 0.048466,
     "end_time": "2024-02-15T08:42:02.249663",
     "exception": false,
     "start_time": "2024-02-15T08:42:02.201197",
     "status": "completed"
    },
    "tags": []
   },
   "outputs": [],
   "source": [
    "data=pd.read_csv(\"instagram_reach.csv\")"
   ]
  },
  {
   "cell_type": "code",
   "execution_count": 4,
   "id": "0d56ba5d",
   "metadata": {
    "execution": {
     "iopub.execute_input": "2024-02-15T08:42:02.280976Z",
     "iopub.status.busy": "2024-02-15T08:42:02.280557Z",
     "iopub.status.idle": "2024-02-15T08:42:02.305635Z",
     "shell.execute_reply": "2024-02-15T08:42:02.304374Z"
    },
    "papermill": {
     "duration": 0.044175,
     "end_time": "2024-02-15T08:42:02.308169",
     "exception": false,
     "start_time": "2024-02-15T08:42:02.263994",
     "status": "completed"
    },
    "tags": []
   },
   "outputs": [
    {
     "data": {
      "text/html": [
       "<div>\n",
       "<style scoped>\n",
       "    .dataframe tbody tr th:only-of-type {\n",
       "        vertical-align: middle;\n",
       "    }\n",
       "\n",
       "    .dataframe tbody tr th {\n",
       "        vertical-align: top;\n",
       "    }\n",
       "\n",
       "    .dataframe thead th {\n",
       "        text-align: right;\n",
       "    }\n",
       "</style>\n",
       "<table border=\"1\" class=\"dataframe\">\n",
       "  <thead>\n",
       "    <tr style=\"text-align: right;\">\n",
       "      <th></th>\n",
       "      <th>Unnamed: 0</th>\n",
       "      <th>S.No</th>\n",
       "      <th>USERNAME</th>\n",
       "      <th>Caption</th>\n",
       "      <th>Followers</th>\n",
       "      <th>Hashtags</th>\n",
       "      <th>Time since posted</th>\n",
       "      <th>Likes</th>\n",
       "    </tr>\n",
       "  </thead>\n",
       "  <tbody>\n",
       "    <tr>\n",
       "      <th>0</th>\n",
       "      <td>0</td>\n",
       "      <td>1</td>\n",
       "      <td>mikequindazzi</td>\n",
       "      <td>Who are #DataScientist and what do they do? &gt;&gt;...</td>\n",
       "      <td>1600</td>\n",
       "      <td>#MachineLearning #AI #DataAnalytics #DataScien...</td>\n",
       "      <td>11 hours</td>\n",
       "      <td>139</td>\n",
       "    </tr>\n",
       "    <tr>\n",
       "      <th>1</th>\n",
       "      <td>1</td>\n",
       "      <td>2</td>\n",
       "      <td>drgorillapaints</td>\n",
       "      <td>We all know where it’s going. We just have to ...</td>\n",
       "      <td>880</td>\n",
       "      <td>#deck .#mac #macintosh#sayhello #apple #steve...</td>\n",
       "      <td>2 hours</td>\n",
       "      <td>23</td>\n",
       "    </tr>\n",
       "    <tr>\n",
       "      <th>2</th>\n",
       "      <td>2</td>\n",
       "      <td>3</td>\n",
       "      <td>aitrading_official</td>\n",
       "      <td>Alexander Barinov: 4 years as CFO in multinati...</td>\n",
       "      <td>255</td>\n",
       "      <td>#whoiswho #aitrading #ai #aitradingteam#instat...</td>\n",
       "      <td>2 hours</td>\n",
       "      <td>25</td>\n",
       "    </tr>\n",
       "    <tr>\n",
       "      <th>3</th>\n",
       "      <td>3</td>\n",
       "      <td>4</td>\n",
       "      <td>opensourcedworkplace</td>\n",
       "      <td>sfad</td>\n",
       "      <td>340</td>\n",
       "      <td>#iot #cre#workplace #CDO #bigdata #technology#...</td>\n",
       "      <td>3 hours</td>\n",
       "      <td>49</td>\n",
       "    </tr>\n",
       "    <tr>\n",
       "      <th>4</th>\n",
       "      <td>4</td>\n",
       "      <td>5</td>\n",
       "      <td>crea.vision</td>\n",
       "      <td>Ever missed a call while your phone was chargi...</td>\n",
       "      <td>304</td>\n",
       "      <td>#instamachinelearning #instabigdata#instamarke...</td>\n",
       "      <td>3 hours</td>\n",
       "      <td>30</td>\n",
       "    </tr>\n",
       "  </tbody>\n",
       "</table>\n",
       "</div>"
      ],
      "text/plain": [
       "   Unnamed: 0  S.No              USERNAME  \\\n",
       "0           0     1         mikequindazzi   \n",
       "1           1     2       drgorillapaints   \n",
       "2           2     3    aitrading_official   \n",
       "3           3     4  opensourcedworkplace   \n",
       "4           4     5           crea.vision   \n",
       "\n",
       "                                             Caption  Followers  \\\n",
       "0  Who are #DataScientist and what do they do? >>...       1600   \n",
       "1  We all know where it’s going. We just have to ...        880   \n",
       "2  Alexander Barinov: 4 years as CFO in multinati...        255   \n",
       "3                                               sfad        340   \n",
       "4  Ever missed a call while your phone was chargi...        304   \n",
       "\n",
       "                                            Hashtags Time since posted  Likes  \n",
       "0  #MachineLearning #AI #DataAnalytics #DataScien...          11 hours    139  \n",
       "1   #deck .#mac #macintosh#sayhello #apple #steve...           2 hours     23  \n",
       "2  #whoiswho #aitrading #ai #aitradingteam#instat...           2 hours     25  \n",
       "3  #iot #cre#workplace #CDO #bigdata #technology#...           3 hours     49  \n",
       "4  #instamachinelearning #instabigdata#instamarke...           3 hours     30  "
      ]
     },
     "execution_count": 4,
     "metadata": {},
     "output_type": "execute_result"
    }
   ],
   "source": [
    "data.head()"
   ]
  },
  {
   "cell_type": "code",
   "execution_count": 5,
   "id": "6bcd70be",
   "metadata": {
    "execution": {
     "iopub.execute_input": "2024-02-15T08:42:02.340254Z",
     "iopub.status.busy": "2024-02-15T08:42:02.339813Z",
     "iopub.status.idle": "2024-02-15T08:42:02.353978Z",
     "shell.execute_reply": "2024-02-15T08:42:02.352369Z"
    },
    "papermill": {
     "duration": 0.034826,
     "end_time": "2024-02-15T08:42:02.357209",
     "exception": false,
     "start_time": "2024-02-15T08:42:02.322383",
     "status": "completed"
    },
    "tags": []
   },
   "outputs": [
    {
     "data": {
      "text/plain": [
       "Unnamed: 0           0\n",
       "S.No                 0\n",
       "USERNAME             0\n",
       "Caption              6\n",
       "Followers            0\n",
       "Hashtags             0\n",
       "Time since posted    0\n",
       "Likes                0\n",
       "dtype: int64"
      ]
     },
     "execution_count": 5,
     "metadata": {},
     "output_type": "execute_result"
    }
   ],
   "source": [
    "data.isnull().sum()"
   ]
  },
  {
   "cell_type": "code",
   "execution_count": 6,
   "id": "383b0996",
   "metadata": {
    "execution": {
     "iopub.execute_input": "2024-02-15T08:42:02.390397Z",
     "iopub.status.busy": "2024-02-15T08:42:02.389949Z",
     "iopub.status.idle": "2024-02-15T08:42:02.412335Z",
     "shell.execute_reply": "2024-02-15T08:42:02.410102Z"
    },
    "papermill": {
     "duration": 0.042448,
     "end_time": "2024-02-15T08:42:02.415400",
     "exception": false,
     "start_time": "2024-02-15T08:42:02.372952",
     "status": "completed"
    },
    "tags": []
   },
   "outputs": [
    {
     "data": {
      "text/plain": [
       "0"
      ]
     },
     "execution_count": 6,
     "metadata": {},
     "output_type": "execute_result"
    }
   ],
   "source": [
    "data.duplicated().sum()"
   ]
  },
  {
   "cell_type": "code",
   "execution_count": 7,
   "id": "39616a0e",
   "metadata": {
    "execution": {
     "iopub.execute_input": "2024-02-15T08:42:02.446974Z",
     "iopub.status.busy": "2024-02-15T08:42:02.446601Z",
     "iopub.status.idle": "2024-02-15T08:42:02.469320Z",
     "shell.execute_reply": "2024-02-15T08:42:02.468049Z"
    },
    "papermill": {
     "duration": 0.042039,
     "end_time": "2024-02-15T08:42:02.472989",
     "exception": false,
     "start_time": "2024-02-15T08:42:02.430950",
     "status": "completed"
    },
    "tags": []
   },
   "outputs": [
    {
     "name": "stdout",
     "output_type": "stream",
     "text": [
      "<class 'pandas.core.frame.DataFrame'>\n",
      "RangeIndex: 100 entries, 0 to 99\n",
      "Data columns (total 8 columns):\n",
      " #   Column             Non-Null Count  Dtype \n",
      "---  ------             --------------  ----- \n",
      " 0   Unnamed: 0         100 non-null    int64 \n",
      " 1   S.No               100 non-null    int64 \n",
      " 2   USERNAME           100 non-null    object\n",
      " 3   Caption            94 non-null     object\n",
      " 4   Followers          100 non-null    int64 \n",
      " 5   Hashtags           100 non-null    object\n",
      " 6   Time since posted  100 non-null    object\n",
      " 7   Likes              100 non-null    int64 \n",
      "dtypes: int64(4), object(4)\n",
      "memory usage: 6.4+ KB\n"
     ]
    }
   ],
   "source": [
    "data.info()"
   ]
  },
  {
   "cell_type": "code",
   "execution_count": 8,
   "id": "51750e66",
   "metadata": {
    "execution": {
     "iopub.execute_input": "2024-02-15T08:42:02.504476Z",
     "iopub.status.busy": "2024-02-15T08:42:02.504048Z",
     "iopub.status.idle": "2024-02-15T08:42:02.512588Z",
     "shell.execute_reply": "2024-02-15T08:42:02.511350Z"
    },
    "papermill": {
     "duration": 0.028138,
     "end_time": "2024-02-15T08:42:02.515320",
     "exception": false,
     "start_time": "2024-02-15T08:42:02.487182",
     "status": "completed"
    },
    "tags": []
   },
   "outputs": [
    {
     "data": {
      "text/plain": [
       "(100, 8)"
      ]
     },
     "execution_count": 8,
     "metadata": {},
     "output_type": "execute_result"
    }
   ],
   "source": [
    "data.shape"
   ]
  },
  {
   "cell_type": "code",
   "execution_count": 9,
   "id": "0548a164",
   "metadata": {
    "execution": {
     "iopub.execute_input": "2024-02-15T08:42:02.547172Z",
     "iopub.status.busy": "2024-02-15T08:42:02.546319Z",
     "iopub.status.idle": "2024-02-15T08:42:02.580732Z",
     "shell.execute_reply": "2024-02-15T08:42:02.578868Z"
    },
    "papermill": {
     "duration": 0.05363,
     "end_time": "2024-02-15T08:42:02.583534",
     "exception": false,
     "start_time": "2024-02-15T08:42:02.529904",
     "status": "completed"
    },
    "tags": []
   },
   "outputs": [
    {
     "data": {
      "text/html": [
       "<div>\n",
       "<style scoped>\n",
       "    .dataframe tbody tr th:only-of-type {\n",
       "        vertical-align: middle;\n",
       "    }\n",
       "\n",
       "    .dataframe tbody tr th {\n",
       "        vertical-align: top;\n",
       "    }\n",
       "\n",
       "    .dataframe thead th {\n",
       "        text-align: right;\n",
       "    }\n",
       "</style>\n",
       "<table border=\"1\" class=\"dataframe\">\n",
       "  <thead>\n",
       "    <tr style=\"text-align: right;\">\n",
       "      <th></th>\n",
       "      <th>count</th>\n",
       "      <th>mean</th>\n",
       "      <th>std</th>\n",
       "      <th>min</th>\n",
       "      <th>25%</th>\n",
       "      <th>50%</th>\n",
       "      <th>75%</th>\n",
       "      <th>max</th>\n",
       "    </tr>\n",
       "  </thead>\n",
       "  <tbody>\n",
       "    <tr>\n",
       "      <th>Unnamed: 0</th>\n",
       "      <td>100.0</td>\n",
       "      <td>8.94</td>\n",
       "      <td>6.639064</td>\n",
       "      <td>0.0</td>\n",
       "      <td>4.00</td>\n",
       "      <td>8.0</td>\n",
       "      <td>12.25</td>\n",
       "      <td>26.0</td>\n",
       "    </tr>\n",
       "    <tr>\n",
       "      <th>S.No</th>\n",
       "      <td>100.0</td>\n",
       "      <td>16.24</td>\n",
       "      <td>7.384286</td>\n",
       "      <td>1.0</td>\n",
       "      <td>10.75</td>\n",
       "      <td>16.5</td>\n",
       "      <td>22.25</td>\n",
       "      <td>30.0</td>\n",
       "    </tr>\n",
       "    <tr>\n",
       "      <th>Followers</th>\n",
       "      <td>100.0</td>\n",
       "      <td>961.96</td>\n",
       "      <td>1014.625670</td>\n",
       "      <td>11.0</td>\n",
       "      <td>252.75</td>\n",
       "      <td>612.0</td>\n",
       "      <td>1197.00</td>\n",
       "      <td>4496.0</td>\n",
       "    </tr>\n",
       "    <tr>\n",
       "      <th>Likes</th>\n",
       "      <td>100.0</td>\n",
       "      <td>46.48</td>\n",
       "      <td>55.086980</td>\n",
       "      <td>8.0</td>\n",
       "      <td>19.00</td>\n",
       "      <td>29.0</td>\n",
       "      <td>46.00</td>\n",
       "      <td>349.0</td>\n",
       "    </tr>\n",
       "  </tbody>\n",
       "</table>\n",
       "</div>"
      ],
      "text/plain": [
       "            count    mean          std   min     25%    50%      75%     max\n",
       "Unnamed: 0  100.0    8.94     6.639064   0.0    4.00    8.0    12.25    26.0\n",
       "S.No        100.0   16.24     7.384286   1.0   10.75   16.5    22.25    30.0\n",
       "Followers   100.0  961.96  1014.625670  11.0  252.75  612.0  1197.00  4496.0\n",
       "Likes       100.0   46.48    55.086980   8.0   19.00   29.0    46.00   349.0"
      ]
     },
     "execution_count": 9,
     "metadata": {},
     "output_type": "execute_result"
    }
   ],
   "source": [
    "data.describe().T"
   ]
  },
  {
   "cell_type": "code",
   "execution_count": 10,
   "id": "2aec6767",
   "metadata": {
    "execution": {
     "iopub.execute_input": "2024-02-15T08:42:02.617343Z",
     "iopub.status.busy": "2024-02-15T08:42:02.616894Z",
     "iopub.status.idle": "2024-02-15T08:42:03.226687Z",
     "shell.execute_reply": "2024-02-15T08:42:03.223512Z"
    },
    "papermill": {
     "duration": 0.631414,
     "end_time": "2024-02-15T08:42:03.230823",
     "exception": false,
     "start_time": "2024-02-15T08:42:02.599409",
     "status": "completed"
    },
    "tags": []
   },
   "outputs": [
    {
     "data": {
      "image/png": "[encoded data removed]",
      "text/plain": [
       "<Figure size 1080x720 with 1 Axes>"
      ]
     },
     "metadata": {
      "needs_background": "light"
     },
     "output_type": "display_data"
    }
   ],
   "source": [
    "plt.figure(figsize=(15,10))\n",
    "sns.histplot(data=data, x='Followers', bins=30, kde=True)\n",
    "plt.show()"
   ]
  },
  {
   "cell_type": "code",
   "execution_count": 11,
   "id": "63cfe71f",
   "metadata": {
    "execution": {
     "iopub.execute_input": "2024-02-15T08:42:03.275896Z",
     "iopub.status.busy": "2024-02-15T08:42:03.275140Z",
     "iopub.status.idle": "2024-02-15T08:42:03.514801Z",
     "shell.execute_reply": "2024-02-15T08:42:03.513427Z"
    },
    "papermill": {
     "duration": 0.260826,
     "end_time": "2024-02-15T08:42:03.517831",
     "exception": false,
     "start_time": "2024-02-15T08:42:03.257005",
     "status": "completed"
    },
    "tags": []
   },
   "outputs": [],
   "source": [
    "from sklearn.preprocessing import LabelEncoder\n",
    "le=LabelEncoder()\n",
    "\n",
    "data['USERNAME']=le.fit_transform(data['USERNAME'])\n",
    "data['Caption']=le.fit_transform(data['Caption'])\n",
    "data['Hashtags']=le.fit_transform(data['Hashtags'])"
   ]
  },
  {
   "cell_type": "code",
   "execution_count": 12,
   "id": "3fad56da",
   "metadata": {
    "execution": {
     "iopub.execute_input": "2024-02-15T08:42:03.552940Z",
     "iopub.status.busy": "2024-02-15T08:42:03.552519Z",
     "iopub.status.idle": "2024-02-15T08:42:03.560054Z",
     "shell.execute_reply": "2024-02-15T08:42:03.558638Z"
    },
    "papermill": {
     "duration": 0.027831,
     "end_time": "2024-02-15T08:42:03.562530",
     "exception": false,
     "start_time": "2024-02-15T08:42:03.534699",
     "status": "completed"
    },
    "tags": []
   },
   "outputs": [],
   "source": [
    "data['Time since posted'] = data['Time since posted'].str.extract('(\\d+)').astype(int)"
   ]
  },
  {
   "cell_type": "code",
   "execution_count": 13,
   "id": "e1fafee6",
   "metadata": {
    "execution": {
     "iopub.execute_input": "2024-02-15T08:42:03.596672Z",
     "iopub.status.busy": "2024-02-15T08:42:03.596214Z",
     "iopub.status.idle": "2024-02-15T08:42:03.612920Z",
     "shell.execute_reply": "2024-02-15T08:42:03.611534Z"
    },
    "papermill": {
     "duration": 0.037888,
     "end_time": "2024-02-15T08:42:03.616214",
     "exception": false,
     "start_time": "2024-02-15T08:42:03.578326",
     "status": "completed"
    },
    "tags": []
   },
   "outputs": [
    {
     "data": {
      "text/html": [
       "<div>\n",
       "<style scoped>\n",
       "    .dataframe tbody tr th:only-of-type {\n",
       "        vertical-align: middle;\n",
       "    }\n",
       "\n",
       "    .dataframe tbody tr th {\n",
       "        vertical-align: top;\n",
       "    }\n",
       "\n",
       "    .dataframe thead th {\n",
       "        text-align: right;\n",
       "    }\n",
       "</style>\n",
       "<table border=\"1\" class=\"dataframe\">\n",
       "  <thead>\n",
       "    <tr style=\"text-align: right;\">\n",
       "      <th></th>\n",
       "      <th>Unnamed: 0</th>\n",
       "      <th>S.No</th>\n",
       "      <th>USERNAME</th>\n",
       "      <th>Caption</th>\n",
       "      <th>Followers</th>\n",
       "      <th>Hashtags</th>\n",
       "      <th>Time since posted</th>\n",
       "      <th>Likes</th>\n",
       "    </tr>\n",
       "  </thead>\n",
       "  <tbody>\n",
       "    <tr>\n",
       "      <th>0</th>\n",
       "      <td>0</td>\n",
       "      <td>1</td>\n",
       "      <td>64</td>\n",
       "      <td>86</td>\n",
       "      <td>1600</td>\n",
       "      <td>17</td>\n",
       "      <td>11</td>\n",
       "      <td>139</td>\n",
       "    </tr>\n",
       "    <tr>\n",
       "      <th>1</th>\n",
       "      <td>1</td>\n",
       "      <td>2</td>\n",
       "      <td>29</td>\n",
       "      <td>82</td>\n",
       "      <td>880</td>\n",
       "      <td>97</td>\n",
       "      <td>2</td>\n",
       "      <td>23</td>\n",
       "    </tr>\n",
       "    <tr>\n",
       "      <th>2</th>\n",
       "      <td>2</td>\n",
       "      <td>3</td>\n",
       "      <td>3</td>\n",
       "      <td>13</td>\n",
       "      <td>255</td>\n",
       "      <td>87</td>\n",
       "      <td>2</td>\n",
       "      <td>25</td>\n",
       "    </tr>\n",
       "    <tr>\n",
       "      <th>3</th>\n",
       "      <td>3</td>\n",
       "      <td>4</td>\n",
       "      <td>71</td>\n",
       "      <td>89</td>\n",
       "      <td>340</td>\n",
       "      <td>65</td>\n",
       "      <td>3</td>\n",
       "      <td>49</td>\n",
       "    </tr>\n",
       "    <tr>\n",
       "      <th>4</th>\n",
       "      <td>4</td>\n",
       "      <td>5</td>\n",
       "      <td>23</td>\n",
       "      <td>30</td>\n",
       "      <td>304</td>\n",
       "      <td>64</td>\n",
       "      <td>3</td>\n",
       "      <td>30</td>\n",
       "    </tr>\n",
       "    <tr>\n",
       "      <th>...</th>\n",
       "      <td>...</td>\n",
       "      <td>...</td>\n",
       "      <td>...</td>\n",
       "      <td>...</td>\n",
       "      <td>...</td>\n",
       "      <td>...</td>\n",
       "      <td>...</td>\n",
       "      <td>...</td>\n",
       "    </tr>\n",
       "    <tr>\n",
       "      <th>95</th>\n",
       "      <td>8</td>\n",
       "      <td>19</td>\n",
       "      <td>63</td>\n",
       "      <td>6</td>\n",
       "      <td>614</td>\n",
       "      <td>29</td>\n",
       "      <td>3</td>\n",
       "      <td>31</td>\n",
       "    </tr>\n",
       "    <tr>\n",
       "      <th>96</th>\n",
       "      <td>9</td>\n",
       "      <td>21</td>\n",
       "      <td>30</td>\n",
       "      <td>24</td>\n",
       "      <td>450</td>\n",
       "      <td>88</td>\n",
       "      <td>3</td>\n",
       "      <td>42</td>\n",
       "    </tr>\n",
       "    <tr>\n",
       "      <th>97</th>\n",
       "      <td>10</td>\n",
       "      <td>22</td>\n",
       "      <td>31</td>\n",
       "      <td>83</td>\n",
       "      <td>182</td>\n",
       "      <td>36</td>\n",
       "      <td>3</td>\n",
       "      <td>10</td>\n",
       "    </tr>\n",
       "    <tr>\n",
       "      <th>98</th>\n",
       "      <td>11</td>\n",
       "      <td>24</td>\n",
       "      <td>55</td>\n",
       "      <td>85</td>\n",
       "      <td>2039</td>\n",
       "      <td>62</td>\n",
       "      <td>3</td>\n",
       "      <td>222</td>\n",
       "    </tr>\n",
       "    <tr>\n",
       "      <th>99</th>\n",
       "      <td>12</td>\n",
       "      <td>25</td>\n",
       "      <td>73</td>\n",
       "      <td>62</td>\n",
       "      <td>741</td>\n",
       "      <td>68</td>\n",
       "      <td>3</td>\n",
       "      <td>109</td>\n",
       "    </tr>\n",
       "  </tbody>\n",
       "</table>\n",
       "<p>100 rows × 8 columns</p>\n",
       "</div>"
      ],
      "text/plain": [
       "    Unnamed: 0  S.No  USERNAME  Caption  Followers  Hashtags  \\\n",
       "0            0     1        64       86       1600        17   \n",
       "1            1     2        29       82        880        97   \n",
       "2            2     3         3       13        255        87   \n",
       "3            3     4        71       89        340        65   \n",
       "4            4     5        23       30        304        64   \n",
       "..         ...   ...       ...      ...        ...       ...   \n",
       "95           8    19        63        6        614        29   \n",
       "96           9    21        30       24        450        88   \n",
       "97          10    22        31       83        182        36   \n",
       "98          11    24        55       85       2039        62   \n",
       "99          12    25        73       62        741        68   \n",
       "\n",
       "    Time since posted  Likes  \n",
       "0                  11    139  \n",
       "1                   2     23  \n",
       "2                   2     25  \n",
       "3                   3     49  \n",
       "4                   3     30  \n",
       "..                ...    ...  \n",
       "95                  3     31  \n",
       "96                  3     42  \n",
       "97                  3     10  \n",
       "98                  3    222  \n",
       "99                  3    109  \n",
       "\n",
       "[100 rows x 8 columns]"
      ]
     },
     "execution_count": 13,
     "metadata": {},
     "output_type": "execute_result"
    }
   ],
   "source": [
    "data"
   ]
  },
  {
   "cell_type": "code",
   "execution_count": 14,
   "id": "1147dd10",
   "metadata": {
    "execution": {
     "iopub.execute_input": "2024-02-15T08:42:03.651383Z",
     "iopub.status.busy": "2024-02-15T08:42:03.650964Z",
     "iopub.status.idle": "2024-02-15T08:42:03.658758Z",
     "shell.execute_reply": "2024-02-15T08:42:03.657045Z"
    },
    "papermill": {
     "duration": 0.02879,
     "end_time": "2024-02-15T08:42:03.662028",
     "exception": false,
     "start_time": "2024-02-15T08:42:03.633238",
     "status": "completed"
    },
    "tags": []
   },
   "outputs": [],
   "source": [
    "X=data.drop(labels=['S.No','Time since posted','Likes'],axis=1)"
   ]
  },
  {
   "cell_type": "code",
   "execution_count": 15,
   "id": "6001e96d",
   "metadata": {
    "execution": {
     "iopub.execute_input": "2024-02-15T08:42:03.709255Z",
     "iopub.status.busy": "2024-02-15T08:42:03.707935Z",
     "iopub.status.idle": "2024-02-15T08:42:03.725168Z",
     "shell.execute_reply": "2024-02-15T08:42:03.723963Z"
    },
    "papermill": {
     "duration": 0.04158,
     "end_time": "2024-02-15T08:42:03.728166",
     "exception": false,
     "start_time": "2024-02-15T08:42:03.686586",
     "status": "completed"
    },
    "tags": []
   },
   "outputs": [
    {
     "data": {
      "text/html": [
       "<div>\n",
       "<style scoped>\n",
       "    .dataframe tbody tr th:only-of-type {\n",
       "        vertical-align: middle;\n",
       "    }\n",
       "\n",
       "    .dataframe tbody tr th {\n",
       "        vertical-align: top;\n",
       "    }\n",
       "\n",
       "    .dataframe thead th {\n",
       "        text-align: right;\n",
       "    }\n",
       "</style>\n",
       "<table border=\"1\" class=\"dataframe\">\n",
       "  <thead>\n",
       "    <tr style=\"text-align: right;\">\n",
       "      <th></th>\n",
       "      <th>Unnamed: 0</th>\n",
       "      <th>USERNAME</th>\n",
       "      <th>Caption</th>\n",
       "      <th>Followers</th>\n",
       "      <th>Hashtags</th>\n",
       "    </tr>\n",
       "  </thead>\n",
       "  <tbody>\n",
       "    <tr>\n",
       "      <th>0</th>\n",
       "      <td>0</td>\n",
       "      <td>64</td>\n",
       "      <td>86</td>\n",
       "      <td>1600</td>\n",
       "      <td>17</td>\n",
       "    </tr>\n",
       "    <tr>\n",
       "      <th>1</th>\n",
       "      <td>1</td>\n",
       "      <td>29</td>\n",
       "      <td>82</td>\n",
       "      <td>880</td>\n",
       "      <td>97</td>\n",
       "    </tr>\n",
       "    <tr>\n",
       "      <th>2</th>\n",
       "      <td>2</td>\n",
       "      <td>3</td>\n",
       "      <td>13</td>\n",
       "      <td>255</td>\n",
       "      <td>87</td>\n",
       "    </tr>\n",
       "    <tr>\n",
       "      <th>3</th>\n",
       "      <td>3</td>\n",
       "      <td>71</td>\n",
       "      <td>89</td>\n",
       "      <td>340</td>\n",
       "      <td>65</td>\n",
       "    </tr>\n",
       "    <tr>\n",
       "      <th>4</th>\n",
       "      <td>4</td>\n",
       "      <td>23</td>\n",
       "      <td>30</td>\n",
       "      <td>304</td>\n",
       "      <td>64</td>\n",
       "    </tr>\n",
       "    <tr>\n",
       "      <th>...</th>\n",
       "      <td>...</td>\n",
       "      <td>...</td>\n",
       "      <td>...</td>\n",
       "      <td>...</td>\n",
       "      <td>...</td>\n",
       "    </tr>\n",
       "    <tr>\n",
       "      <th>95</th>\n",
       "      <td>8</td>\n",
       "      <td>63</td>\n",
       "      <td>6</td>\n",
       "      <td>614</td>\n",
       "      <td>29</td>\n",
       "    </tr>\n",
       "    <tr>\n",
       "      <th>96</th>\n",
       "      <td>9</td>\n",
       "      <td>30</td>\n",
       "      <td>24</td>\n",
       "      <td>450</td>\n",
       "      <td>88</td>\n",
       "    </tr>\n",
       "    <tr>\n",
       "      <th>97</th>\n",
       "      <td>10</td>\n",
       "      <td>31</td>\n",
       "      <td>83</td>\n",
       "      <td>182</td>\n",
       "      <td>36</td>\n",
       "    </tr>\n",
       "    <tr>\n",
       "      <th>98</th>\n",
       "      <td>11</td>\n",
       "      <td>55</td>\n",
       "      <td>85</td>\n",
       "      <td>2039</td>\n",
       "      <td>62</td>\n",
       "    </tr>\n",
       "    <tr>\n",
       "      <th>99</th>\n",
       "      <td>12</td>\n",
       "      <td>73</td>\n",
       "      <td>62</td>\n",
       "      <td>741</td>\n",
       "      <td>68</td>\n",
       "    </tr>\n",
       "  </tbody>\n",
       "</table>\n",
       "<p>100 rows × 5 columns</p>\n",
       "</div>"
      ],
      "text/plain": [
       "    Unnamed: 0  USERNAME  Caption  Followers  Hashtags\n",
       "0            0        64       86       1600        17\n",
       "1            1        29       82        880        97\n",
       "2            2         3       13        255        87\n",
       "3            3        71       89        340        65\n",
       "4            4        23       30        304        64\n",
       "..         ...       ...      ...        ...       ...\n",
       "95           8        63        6        614        29\n",
       "96           9        30       24        450        88\n",
       "97          10        31       83        182        36\n",
       "98          11        55       85       2039        62\n",
       "99          12        73       62        741        68\n",
       "\n",
       "[100 rows x 5 columns]"
      ]
     },
     "execution_count": 15,
     "metadata": {},
     "output_type": "execute_result"
    }
   ],
   "source": [
    "X"
   ]
  },
  {
   "cell_type": "code",
   "execution_count": 16,
   "id": "ac1333ea",
   "metadata": {
    "execution": {
     "iopub.execute_input": "2024-02-15T08:42:03.768435Z",
     "iopub.status.busy": "2024-02-15T08:42:03.766081Z",
     "iopub.status.idle": "2024-02-15T08:42:03.774823Z",
     "shell.execute_reply": "2024-02-15T08:42:03.773577Z"
    },
    "papermill": {
     "duration": 0.032454,
     "end_time": "2024-02-15T08:42:03.778952",
     "exception": false,
     "start_time": "2024-02-15T08:42:03.746498",
     "status": "completed"
    },
    "tags": []
   },
   "outputs": [
    {
     "name": "stdout",
     "output_type": "stream",
     "text": [
      "Index(['Unnamed: 0', 'S.No', 'USERNAME', 'Caption', 'Followers', 'Hashtags',\n",
      "       'Time since posted', 'Likes'],\n",
      "      dtype='object')\n"
     ]
    }
   ],
   "source": [
    "print(data.columns)"
   ]
  },
  {
   "cell_type": "code",
   "execution_count": 17,
   "id": "89d3cfec",
   "metadata": {
    "execution": {
     "iopub.execute_input": "2024-02-15T08:42:03.817474Z",
     "iopub.status.busy": "2024-02-15T08:42:03.816392Z",
     "iopub.status.idle": "2024-02-15T08:42:03.823164Z",
     "shell.execute_reply": "2024-02-15T08:42:03.821785Z"
    },
    "papermill": {
     "duration": 0.030201,
     "end_time": "2024-02-15T08:42:03.826039",
     "exception": false,
     "start_time": "2024-02-15T08:42:03.795838",
     "status": "completed"
    },
    "tags": []
   },
   "outputs": [
    {
     "name": "stdout",
     "output_type": "stream",
     "text": [
      "Index(['Unnamed: 0', 'S.No', 'USERNAME', 'Caption', 'Followers', 'Hashtags',\n",
      "       'Time since posted', 'Likes'],\n",
      "      dtype='object')\n"
     ]
    }
   ],
   "source": [
    "print(data.columns)\n"
   ]
  },
  {
   "cell_type": "code",
   "execution_count": 18,
   "id": "c9f5650f",
   "metadata": {
    "execution": {
     "iopub.execute_input": "2024-02-15T08:42:03.865553Z",
     "iopub.status.busy": "2024-02-15T08:42:03.864692Z",
     "iopub.status.idle": "2024-02-15T08:42:03.871744Z",
     "shell.execute_reply": "2024-02-15T08:42:03.870498Z"
    },
    "papermill": {
     "duration": 0.031869,
     "end_time": "2024-02-15T08:42:03.875134",
     "exception": false,
     "start_time": "2024-02-15T08:42:03.843265",
     "status": "completed"
    },
    "tags": []
   },
   "outputs": [],
   "source": [
    "y = data[['Time since posted','Likes']]"
   ]
  },
  {
   "cell_type": "code",
   "execution_count": 19,
   "id": "e10d7117",
   "metadata": {
    "execution": {
     "iopub.execute_input": "2024-02-15T08:42:03.915127Z",
     "iopub.status.busy": "2024-02-15T08:42:03.914000Z",
     "iopub.status.idle": "2024-02-15T08:42:03.928164Z",
     "shell.execute_reply": "2024-02-15T08:42:03.926883Z"
    },
    "papermill": {
     "duration": 0.037025,
     "end_time": "2024-02-15T08:42:03.930667",
     "exception": false,
     "start_time": "2024-02-15T08:42:03.893642",
     "status": "completed"
    },
    "tags": []
   },
   "outputs": [
    {
     "data": {
      "text/html": [
       "<div>\n",
       "<style scoped>\n",
       "    .dataframe tbody tr th:only-of-type {\n",
       "        vertical-align: middle;\n",
       "    }\n",
       "\n",
       "    .dataframe tbody tr th {\n",
       "        vertical-align: top;\n",
       "    }\n",
       "\n",
       "    .dataframe thead th {\n",
       "        text-align: right;\n",
       "    }\n",
       "</style>\n",
       "<table border=\"1\" class=\"dataframe\">\n",
       "  <thead>\n",
       "    <tr style=\"text-align: right;\">\n",
       "      <th></th>\n",
       "      <th>Time since posted</th>\n",
       "      <th>Likes</th>\n",
       "    </tr>\n",
       "  </thead>\n",
       "  <tbody>\n",
       "    <tr>\n",
       "      <th>0</th>\n",
       "      <td>11</td>\n",
       "      <td>139</td>\n",
       "    </tr>\n",
       "    <tr>\n",
       "      <th>1</th>\n",
       "      <td>2</td>\n",
       "      <td>23</td>\n",
       "    </tr>\n",
       "    <tr>\n",
       "      <th>2</th>\n",
       "      <td>2</td>\n",
       "      <td>25</td>\n",
       "    </tr>\n",
       "    <tr>\n",
       "      <th>3</th>\n",
       "      <td>3</td>\n",
       "      <td>49</td>\n",
       "    </tr>\n",
       "    <tr>\n",
       "      <th>4</th>\n",
       "      <td>3</td>\n",
       "      <td>30</td>\n",
       "    </tr>\n",
       "    <tr>\n",
       "      <th>...</th>\n",
       "      <td>...</td>\n",
       "      <td>...</td>\n",
       "    </tr>\n",
       "    <tr>\n",
       "      <th>95</th>\n",
       "      <td>3</td>\n",
       "      <td>31</td>\n",
       "    </tr>\n",
       "    <tr>\n",
       "      <th>96</th>\n",
       "      <td>3</td>\n",
       "      <td>42</td>\n",
       "    </tr>\n",
       "    <tr>\n",
       "      <th>97</th>\n",
       "      <td>3</td>\n",
       "      <td>10</td>\n",
       "    </tr>\n",
       "    <tr>\n",
       "      <th>98</th>\n",
       "      <td>3</td>\n",
       "      <td>222</td>\n",
       "    </tr>\n",
       "    <tr>\n",
       "      <th>99</th>\n",
       "      <td>3</td>\n",
       "      <td>109</td>\n",
       "    </tr>\n",
       "  </tbody>\n",
       "</table>\n",
       "<p>100 rows × 2 columns</p>\n",
       "</div>"
      ],
      "text/plain": [
       "    Time since posted  Likes\n",
       "0                  11    139\n",
       "1                   2     23\n",
       "2                   2     25\n",
       "3                   3     49\n",
       "4                   3     30\n",
       "..                ...    ...\n",
       "95                  3     31\n",
       "96                  3     42\n",
       "97                  3     10\n",
       "98                  3    222\n",
       "99                  3    109\n",
       "\n",
       "[100 rows x 2 columns]"
      ]
     },
     "execution_count": 19,
     "metadata": {},
     "output_type": "execute_result"
    }
   ],
   "source": [
    "y"
   ]
  },
  {
   "cell_type": "code",
   "execution_count": 20,
   "id": "230867a4",
   "metadata": {
    "execution": {
     "iopub.execute_input": "2024-02-15T08:42:03.970373Z",
     "iopub.status.busy": "2024-02-15T08:42:03.969429Z",
     "iopub.status.idle": "2024-02-15T08:42:04.097542Z",
     "shell.execute_reply": "2024-02-15T08:42:04.096532Z"
    },
    "papermill": {
     "duration": 0.150765,
     "end_time": "2024-02-15T08:42:04.100368",
     "exception": false,
     "start_time": "2024-02-15T08:42:03.949603",
     "status": "completed"
    },
    "tags": []
   },
   "outputs": [],
   "source": [
    "from sklearn.model_selection import train_test_split\n",
    "X_train,X_test,y_train,y_test=train_test_split(X,y, test_size=0.25)"
   ]
  },
  {
   "cell_type": "code",
   "execution_count": 21,
   "id": "5d114092",
   "metadata": {
    "execution": {
     "iopub.execute_input": "2024-02-15T08:42:04.138745Z",
     "iopub.status.busy": "2024-02-15T08:42:04.138021Z",
     "iopub.status.idle": "2024-02-15T08:42:04.155209Z",
     "shell.execute_reply": "2024-02-15T08:42:04.153988Z"
    },
    "papermill": {
     "duration": 0.039513,
     "end_time": "2024-02-15T08:42:04.158156",
     "exception": false,
     "start_time": "2024-02-15T08:42:04.118643",
     "status": "completed"
    },
    "tags": []
   },
   "outputs": [
    {
     "data": {
      "text/html": [
       "<div>\n",
       "<style scoped>\n",
       "    .dataframe tbody tr th:only-of-type {\n",
       "        vertical-align: middle;\n",
       "    }\n",
       "\n",
       "    .dataframe tbody tr th {\n",
       "        vertical-align: top;\n",
       "    }\n",
       "\n",
       "    .dataframe thead th {\n",
       "        text-align: right;\n",
       "    }\n",
       "</style>\n",
       "<table border=\"1\" class=\"dataframe\">\n",
       "  <thead>\n",
       "    <tr style=\"text-align: right;\">\n",
       "      <th></th>\n",
       "      <th>Unnamed: 0</th>\n",
       "      <th>USERNAME</th>\n",
       "      <th>Caption</th>\n",
       "      <th>Followers</th>\n",
       "      <th>Hashtags</th>\n",
       "    </tr>\n",
       "  </thead>\n",
       "  <tbody>\n",
       "    <tr>\n",
       "      <th>89</th>\n",
       "      <td>2</td>\n",
       "      <td>47</td>\n",
       "      <td>94</td>\n",
       "      <td>1196</td>\n",
       "      <td>11</td>\n",
       "    </tr>\n",
       "    <tr>\n",
       "      <th>40</th>\n",
       "      <td>1</td>\n",
       "      <td>62</td>\n",
       "      <td>79</td>\n",
       "      <td>258</td>\n",
       "      <td>82</td>\n",
       "    </tr>\n",
       "    <tr>\n",
       "      <th>54</th>\n",
       "      <td>15</td>\n",
       "      <td>43</td>\n",
       "      <td>16</td>\n",
       "      <td>2785</td>\n",
       "      <td>49</td>\n",
       "    </tr>\n",
       "    <tr>\n",
       "      <th>4</th>\n",
       "      <td>4</td>\n",
       "      <td>23</td>\n",
       "      <td>30</td>\n",
       "      <td>304</td>\n",
       "      <td>64</td>\n",
       "    </tr>\n",
       "    <tr>\n",
       "      <th>6</th>\n",
       "      <td>6</td>\n",
       "      <td>56</td>\n",
       "      <td>22</td>\n",
       "      <td>259</td>\n",
       "      <td>92</td>\n",
       "    </tr>\n",
       "    <tr>\n",
       "      <th>...</th>\n",
       "      <td>...</td>\n",
       "      <td>...</td>\n",
       "      <td>...</td>\n",
       "      <td>...</td>\n",
       "      <td>...</td>\n",
       "    </tr>\n",
       "    <tr>\n",
       "      <th>72</th>\n",
       "      <td>10</td>\n",
       "      <td>53</td>\n",
       "      <td>94</td>\n",
       "      <td>955</td>\n",
       "      <td>75</td>\n",
       "    </tr>\n",
       "    <tr>\n",
       "      <th>3</th>\n",
       "      <td>3</td>\n",
       "      <td>71</td>\n",
       "      <td>89</td>\n",
       "      <td>340</td>\n",
       "      <td>65</td>\n",
       "    </tr>\n",
       "    <tr>\n",
       "      <th>88</th>\n",
       "      <td>1</td>\n",
       "      <td>20</td>\n",
       "      <td>58</td>\n",
       "      <td>1158</td>\n",
       "      <td>56</td>\n",
       "    </tr>\n",
       "    <tr>\n",
       "      <th>77</th>\n",
       "      <td>4</td>\n",
       "      <td>58</td>\n",
       "      <td>29</td>\n",
       "      <td>631</td>\n",
       "      <td>54</td>\n",
       "    </tr>\n",
       "    <tr>\n",
       "      <th>91</th>\n",
       "      <td>4</td>\n",
       "      <td>85</td>\n",
       "      <td>53</td>\n",
       "      <td>971</td>\n",
       "      <td>46</td>\n",
       "    </tr>\n",
       "  </tbody>\n",
       "</table>\n",
       "<p>75 rows × 5 columns</p>\n",
       "</div>"
      ],
      "text/plain": [
       "    Unnamed: 0  USERNAME  Caption  Followers  Hashtags\n",
       "89           2        47       94       1196        11\n",
       "40           1        62       79        258        82\n",
       "54          15        43       16       2785        49\n",
       "4            4        23       30        304        64\n",
       "6            6        56       22        259        92\n",
       "..         ...       ...      ...        ...       ...\n",
       "72          10        53       94        955        75\n",
       "3            3        71       89        340        65\n",
       "88           1        20       58       1158        56\n",
       "77           4        58       29        631        54\n",
       "91           4        85       53        971        46\n",
       "\n",
       "[75 rows x 5 columns]"
      ]
     },
     "execution_count": 21,
     "metadata": {},
     "output_type": "execute_result"
    }
   ],
   "source": [
    "X_train"
   ]
  },
  {
   "cell_type": "code",
   "execution_count": 22,
   "id": "9a46fe59",
   "metadata": {
    "execution": {
     "iopub.execute_input": "2024-02-15T08:42:04.207685Z",
     "iopub.status.busy": "2024-02-15T08:42:04.207239Z",
     "iopub.status.idle": "2024-02-15T08:42:04.223747Z",
     "shell.execute_reply": "2024-02-15T08:42:04.222395Z"
    },
    "papermill": {
     "duration": 0.047255,
     "end_time": "2024-02-15T08:42:04.226747",
     "exception": false,
     "start_time": "2024-02-15T08:42:04.179492",
     "status": "completed"
    },
    "tags": []
   },
   "outputs": [
    {
     "data": {
      "text/html": [
       "<div>\n",
       "<style scoped>\n",
       "    .dataframe tbody tr th:only-of-type {\n",
       "        vertical-align: middle;\n",
       "    }\n",
       "\n",
       "    .dataframe tbody tr th {\n",
       "        vertical-align: top;\n",
       "    }\n",
       "\n",
       "    .dataframe thead th {\n",
       "        text-align: right;\n",
       "    }\n",
       "</style>\n",
       "<table border=\"1\" class=\"dataframe\">\n",
       "  <thead>\n",
       "    <tr style=\"text-align: right;\">\n",
       "      <th></th>\n",
       "      <th>Time since posted</th>\n",
       "      <th>Likes</th>\n",
       "    </tr>\n",
       "  </thead>\n",
       "  <tbody>\n",
       "    <tr>\n",
       "      <th>89</th>\n",
       "      <td>2</td>\n",
       "      <td>16</td>\n",
       "    </tr>\n",
       "    <tr>\n",
       "      <th>40</th>\n",
       "      <td>2</td>\n",
       "      <td>24</td>\n",
       "    </tr>\n",
       "    <tr>\n",
       "      <th>54</th>\n",
       "      <td>7</td>\n",
       "      <td>65</td>\n",
       "    </tr>\n",
       "    <tr>\n",
       "      <th>4</th>\n",
       "      <td>3</td>\n",
       "      <td>30</td>\n",
       "    </tr>\n",
       "    <tr>\n",
       "      <th>6</th>\n",
       "      <td>3</td>\n",
       "      <td>35</td>\n",
       "    </tr>\n",
       "    <tr>\n",
       "      <th>...</th>\n",
       "      <td>...</td>\n",
       "      <td>...</td>\n",
       "    </tr>\n",
       "    <tr>\n",
       "      <th>72</th>\n",
       "      <td>2</td>\n",
       "      <td>20</td>\n",
       "    </tr>\n",
       "    <tr>\n",
       "      <th>3</th>\n",
       "      <td>3</td>\n",
       "      <td>49</td>\n",
       "    </tr>\n",
       "    <tr>\n",
       "      <th>88</th>\n",
       "      <td>2</td>\n",
       "      <td>29</td>\n",
       "    </tr>\n",
       "    <tr>\n",
       "      <th>77</th>\n",
       "      <td>2</td>\n",
       "      <td>55</td>\n",
       "    </tr>\n",
       "    <tr>\n",
       "      <th>91</th>\n",
       "      <td>2</td>\n",
       "      <td>46</td>\n",
       "    </tr>\n",
       "  </tbody>\n",
       "</table>\n",
       "<p>75 rows × 2 columns</p>\n",
       "</div>"
      ],
      "text/plain": [
       "    Time since posted  Likes\n",
       "89                  2     16\n",
       "40                  2     24\n",
       "54                  7     65\n",
       "4                   3     30\n",
       "6                   3     35\n",
       "..                ...    ...\n",
       "72                  2     20\n",
       "3                   3     49\n",
       "88                  2     29\n",
       "77                  2     55\n",
       "91                  2     46\n",
       "\n",
       "[75 rows x 2 columns]"
      ]
     },
     "execution_count": 22,
     "metadata": {},
     "output_type": "execute_result"
    }
   ],
   "source": [
    "y_train"
   ]
  },
  {
   "cell_type": "code",
   "execution_count": 23,
   "id": "2a95d439",
   "metadata": {
    "execution": {
     "iopub.execute_input": "2024-02-15T08:42:04.270325Z",
     "iopub.status.busy": "2024-02-15T08:42:04.269516Z",
     "iopub.status.idle": "2024-02-15T08:42:04.275432Z",
     "shell.execute_reply": "2024-02-15T08:42:04.274326Z"
    },
    "papermill": {
     "duration": 0.032214,
     "end_time": "2024-02-15T08:42:04.278242",
     "exception": false,
     "start_time": "2024-02-15T08:42:04.246028",
     "status": "completed"
    },
    "tags": []
   },
   "outputs": [],
   "source": [
    "from sklearn.preprocessing import StandardScaler\n",
    "scaler=StandardScaler()"
   ]
  },
  {
   "cell_type": "code",
   "execution_count": 24,
   "id": "bb07542c",
   "metadata": {
    "execution": {
     "iopub.execute_input": "2024-02-15T08:42:04.319838Z",
     "iopub.status.busy": "2024-02-15T08:42:04.318569Z",
     "iopub.status.idle": "2024-02-15T08:42:04.329306Z",
     "shell.execute_reply": "2024-02-15T08:42:04.328003Z"
    },
    "papermill": {
     "duration": 0.035347,
     "end_time": "2024-02-15T08:42:04.332378",
     "exception": false,
     "start_time": "2024-02-15T08:42:04.297031",
     "status": "completed"
    },
    "tags": []
   },
   "outputs": [],
   "source": [
    "X_train_scaled=scaler.fit_transform(X_train)"
   ]
  },
  {
   "cell_type": "code",
   "execution_count": 25,
   "id": "7f827885",
   "metadata": {
    "execution": {
     "iopub.execute_input": "2024-02-15T08:42:04.373179Z",
     "iopub.status.busy": "2024-02-15T08:42:04.372770Z",
     "iopub.status.idle": "2024-02-15T08:42:04.380891Z",
     "shell.execute_reply": "2024-02-15T08:42:04.379527Z"
    },
    "papermill": {
     "duration": 0.032711,
     "end_time": "2024-02-15T08:42:04.383735",
     "exception": false,
     "start_time": "2024-02-15T08:42:04.351024",
     "status": "completed"
    },
    "tags": []
   },
   "outputs": [],
   "source": [
    "X_test_scaled=scaler.transform(X_test)"
   ]
  },
  {
   "cell_type": "code",
   "execution_count": 26,
   "id": "264e194b",
   "metadata": {
    "execution": {
     "iopub.execute_input": "2024-02-15T08:42:04.490861Z",
     "iopub.status.busy": "2024-02-15T08:42:04.490413Z",
     "iopub.status.idle": "2024-02-15T08:42:04.814042Z",
     "shell.execute_reply": "2024-02-15T08:42:04.812131Z"
    },
    "papermill": {
     "duration": 0.414377,
     "end_time": "2024-02-15T08:42:04.818087",
     "exception": false,
     "start_time": "2024-02-15T08:42:04.403710",
     "status": "completed"
    },
    "tags": []
   },
   "outputs": [],
   "source": [
    "from sklearn.linear_model import LinearRegression,Ridge,Lasso,ElasticNet\n",
    "from sklearn.ensemble import RandomForestRegressor\n",
    "from sklearn.tree import DecisionTreeRegressor\n",
    "from sklearn.metrics import r2_score,mean_absolute_error, mean_squared_error\n"
   ]
  },
  {
   "cell_type": "code",
   "execution_count": 27,
   "id": "2542bcd1",
   "metadata": {
    "execution": {
     "iopub.execute_input": "2024-02-15T08:42:04.859957Z",
     "iopub.status.busy": "2024-02-15T08:42:04.859525Z",
     "iopub.status.idle": "2024-02-15T08:42:04.866820Z",
     "shell.execute_reply": "2024-02-15T08:42:04.865553Z"
    },
    "papermill": {
     "duration": 0.031602,
     "end_time": "2024-02-15T08:42:04.869992",
     "exception": false,
     "start_time": "2024-02-15T08:42:04.838390",
     "status": "completed"
    },
    "tags": []
   },
   "outputs": [],
   "source": [
    "def evaluate_model(true, predict):\n",
    "    r2=r2_score(true, predict)\n",
    "    mae=mean_absolute_error(true,predict)\n",
    "    mse=mean_squared_error(true,predict)\n",
    "   \n",
    "\n",
    "    return r2, mae,mse,"
   ]
  },
  {
   "cell_type": "code",
   "execution_count": 28,
   "id": "fcccbdd0",
   "metadata": {
    "execution": {
     "iopub.execute_input": "2024-02-15T08:42:04.908424Z",
     "iopub.status.busy": "2024-02-15T08:42:04.907319Z",
     "iopub.status.idle": "2024-02-15T08:42:04.913391Z",
     "shell.execute_reply": "2024-02-15T08:42:04.912037Z"
    },
    "papermill": {
     "duration": 0.028637,
     "end_time": "2024-02-15T08:42:04.916601",
     "exception": false,
     "start_time": "2024-02-15T08:42:04.887964",
     "status": "completed"
    },
    "tags": []
   },
   "outputs": [],
   "source": [
    "models={\n",
    "\n",
    "    'LinearRegression':LinearRegression(),\n",
    "    'Lasso':Lasso(),\n",
    "    'Ridge':Ridge(),\n",
    "    'Elasticnet':ElasticNet(),\n",
    "    'Randomforest':RandomForestRegressor()\n",
    "\n",
    "}"
   ]
  },
  {
   "cell_type": "code",
   "execution_count": 29,
   "id": "e6e0be12",
   "metadata": {
    "execution": {
     "iopub.execute_input": "2024-02-15T08:42:04.958249Z",
     "iopub.status.busy": "2024-02-15T08:42:04.957820Z",
     "iopub.status.idle": "2024-02-15T08:42:04.968060Z",
     "shell.execute_reply": "2024-02-15T08:42:04.966578Z"
    },
    "papermill": {
     "duration": 0.033862,
     "end_time": "2024-02-15T08:42:04.971379",
     "exception": false,
     "start_time": "2024-02-15T08:42:04.937517",
     "status": "completed"
    },
    "tags": []
   },
   "outputs": [
    {
     "name": "stdout",
     "output_type": "stream",
     "text": [
      "LinearRegression()\n",
      "Lasso()\n",
      "Ridge()\n",
      "ElasticNet()\n",
      "RandomForestRegressor()\n"
     ]
    }
   ],
   "source": [
    "for i in range(len(models)):\n",
    "    model=list((models.values()))[i]\n",
    "    print(model)\n",
    "    \n",
    "    \n",
    "r2_list=[]\n",
    "\n"
   ]
  },
  {
   "cell_type": "code",
   "execution_count": 30,
   "id": "20c1df33",
   "metadata": {
    "execution": {
     "iopub.execute_input": "2024-02-15T08:42:05.010205Z",
     "iopub.status.busy": "2024-02-15T08:42:05.009761Z",
     "iopub.status.idle": "2024-02-15T08:42:05.014557Z",
     "shell.execute_reply": "2024-02-15T08:42:05.013527Z"
    },
    "papermill": {
     "duration": 0.027813,
     "end_time": "2024-02-15T08:42:05.016746",
     "exception": false,
     "start_time": "2024-02-15T08:42:04.988933",
     "status": "completed"
    },
    "tags": []
   },
   "outputs": [],
   "source": [
    "from sklearn.metrics import r2_score, mean_squared_error, mean_absolute_error\n",
    "\n"
   ]
  },
  {
   "cell_type": "code",
   "execution_count": 31,
   "id": "30ee4e80",
   "metadata": {
    "execution": {
     "iopub.execute_input": "2024-02-15T08:42:05.056807Z",
     "iopub.status.busy": "2024-02-15T08:42:05.056336Z",
     "iopub.status.idle": "2024-02-15T08:42:05.062298Z",
     "shell.execute_reply": "2024-02-15T08:42:05.061078Z"
    },
    "papermill": {
     "duration": 0.028384,
     "end_time": "2024-02-15T08:42:05.064931",
     "exception": false,
     "start_time": "2024-02-15T08:42:05.036547",
     "status": "completed"
    },
    "tags": []
   },
   "outputs": [],
   "source": [
    "def evaluate_model(true, predict):\n",
    "    r2=r2_score(true, predict)\n",
    "    mae=mean_absolute_error(true,predict)\n",
    "    mse=mean_squared_error(true,predict)\n",
    "   \n",
    "\n",
    "    return r2, mae,mse,"
   ]
  },
  {
   "cell_type": "code",
   "execution_count": 32,
   "id": "8191ef02",
   "metadata": {
    "execution": {
     "iopub.execute_input": "2024-02-15T08:42:05.110294Z",
     "iopub.status.busy": "2024-02-15T08:42:05.108576Z",
     "iopub.status.idle": "2024-02-15T08:42:05.438206Z",
     "shell.execute_reply": "2024-02-15T08:42:05.436730Z"
    },
    "papermill": {
     "duration": 0.35595,
     "end_time": "2024-02-15T08:42:05.441091",
     "exception": false,
     "start_time": "2024-02-15T08:42:05.085141",
     "status": "completed"
    },
    "tags": []
   },
   "outputs": [
    {
     "name": "stdout",
     "output_type": "stream",
     "text": [
      "model training performance LinearRegression()\n",
      "MSE: 2378.288395843672\n",
      "MAE: 19.51379397956818\n",
      "R2 SCORE: -0.06604153058052276\n",
      "========================================\n",
      "\n",
      "\n",
      "model training performance Lasso()\n",
      "MSE: 2377.923974921195\n",
      "MAE: 19.523872989715127\n",
      "R2 SCORE: -0.05613652992760665\n",
      "========================================\n",
      "\n",
      "\n",
      "model training performance Ridge()\n",
      "MSE: 2378.281817541027\n",
      "MAE: 19.513765128850377\n",
      "R2 SCORE: -0.06603836376172012\n",
      "========================================\n",
      "\n",
      "\n",
      "model training performance ElasticNet()\n",
      "MSE: 2377.8522624838133\n",
      "MAE: 19.517082243149638\n",
      "R2 SCORE: -0.060924639498182276\n",
      "========================================\n",
      "\n",
      "\n",
      "model training performance RandomForestRegressor()\n",
      "MSE: 2443.547738\n",
      "MAE: 18.979\n",
      "R2 SCORE: 0.017484435664138875\n",
      "========================================\n",
      "\n",
      "\n"
     ]
    }
   ],
   "source": [
    "for i in range(len(models)):\n",
    "    model=list(models.values())[i]\n",
    "    \n",
    "    model.fit(X_train,y_train)\n",
    "\n",
    "    #make_prediction\n",
    "    y_pred=model.predict(X_test)\n",
    "\n",
    "    #this is for the validaiton\n",
    "    R2,MAE,MSE=evaluate_model(y_test,y_pred)\n",
    "\n",
    "\n",
    "    print(\"model training performance\",model)\n",
    "    print(\"MSE:\", MSE)\n",
    "    print(\"MAE:\",MAE)\n",
    "    print(\"R2 SCORE:\",R2)\n",
    "    \n",
    "    r2_list.append(R2)\n",
    "\n",
    "    print(\"=\"*40)\n",
    "    print(\"\\n\")\n",
    "\n",
    "    \n",
    "\n",
    "\n",
    "    \n",
    "\n"
   ]
  },
  {
   "cell_type": "code",
   "execution_count": 33,
   "id": "bcc31afb",
   "metadata": {
    "execution": {
     "iopub.execute_input": "2024-02-15T08:42:05.481681Z",
     "iopub.status.busy": "2024-02-15T08:42:05.481216Z",
     "iopub.status.idle": "2024-02-15T08:42:05.488670Z",
     "shell.execute_reply": "2024-02-15T08:42:05.487415Z"
    },
    "papermill": {
     "duration": 0.029813,
     "end_time": "2024-02-15T08:42:05.491301",
     "exception": false,
     "start_time": "2024-02-15T08:42:05.461488",
     "status": "completed"
    },
    "tags": []
   },
   "outputs": [
    {
     "data": {
      "text/plain": [
       "[-0.06604153058052276,\n",
       " -0.05613652992760665,\n",
       " -0.06603836376172012,\n",
       " -0.060924639498182276,\n",
       " 0.017484435664138875]"
      ]
     },
     "execution_count": 33,
     "metadata": {},
     "output_type": "execute_result"
    }
   ],
   "source": [
    "\n",
    "r2_list\n"
   ]
  },
  {
   "cell_type": "markdown",
   "id": "9ce2129a",
   "metadata": {
    "papermill": {
     "duration": 0.019397,
     "end_time": "2024-02-15T08:42:05.569034",
     "exception": false,
     "start_time": "2024-02-15T08:42:05.549637",
     "status": "completed"
    },
    "tags": []
   },
   "source": [
    "# RandomForestRegressor has high r2 value and low mae and mse than other models, so it is best for our project"
   ]
  }
 ],
 "metadata": {
  "kaggle": {
   "accelerator": "none",
   "dataSources": [
    {
     "datasetId": 1110430,
     "sourceId": 1865645,
     "sourceType": "datasetVersion"
    }
   ],
   "dockerImageVersionId": 30646,
   "isGpuEnabled": false,
   "isInternetEnabled": true,
   "language": "python",
   "sourceType": "notebook"
  },
  "kernelspec": {
   "display_name": "Python 3 (ipykernel)",
   "language": "python",
   "name": "python3"
  },
  "language_info": {
   "codemirror_mode": {
    "name": "ipython",
    "version": 3
   },
   "file_extension": ".py",
   "mimetype": "text/x-python",
   "name": "python",
   "nbconvert_exporter": "python",
   "pygments_lexer": "ipython3",
   "version": "3.9.7"
  },
  "papermill": {
   "default_parameters": {},
   "duration": 11.106006,
   "end_time": "2024-02-15T08:42:06.757046",
   "environment_variables": {},
   "exception": null,
   "input_path": "__notebook__.ipynb",
   "output_path": "__notebook__.ipynb",
   "parameters": {},
   "start_time": "2024-02-15T08:41:55.651040",
   "version": "2.5.0"
  }
 },
 "nbformat": 4,
 "nbformat_minor": 5
}
