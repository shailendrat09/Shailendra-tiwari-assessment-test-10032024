{
 "cells": [
  {
   "cell_type": "code",
   "execution_count": 1,
   "id": "8c60536d",
   "metadata": {},
   "outputs": [],
   "source": [
    "from tensorflow.keras.datasets import mnist\n",
    "from tensorflow.keras.models import Sequential\n",
    "from tensorflow.keras.layers import Dense\n",
    "from tensorflow.keras.optimizers import Adam"
   ]
  },
  {
   "cell_type": "code",
   "execution_count": 2,
   "id": "e6667846",
   "metadata": {},
   "outputs": [],
   "source": [
    "# Load MNIST dataset\n",
    "(x_train, y_train), (x_test, y_test) = mnist.load_data()"
   ]
  },
  {
   "cell_type": "code",
   "execution_count": 3,
   "id": "e41f3500",
   "metadata": {},
   "outputs": [],
   "source": [
    "# Preprocess data (normalize pixel values to range [0, 1])\n",
    "x_train = x_train.astype('float32') / 255\n",
    "x_test = x_test.astype('float32') / 255"
   ]
  },
  {
   "cell_type": "code",
   "execution_count": 4,
   "id": "33c8bd0b",
   "metadata": {},
   "outputs": [],
   "source": [
    "# Reshape data for input layer (28x28 pixels)\n",
    "x_train = x_train.reshape(x_train.shape[0], 28 * 28)\n",
    "x_test = x_test.reshape(x_test.shape[0], 28 * 28)"
   ]
  },
  {
   "cell_type": "code",
   "execution_count": 5,
   "id": "61afad24",
   "metadata": {},
   "outputs": [],
   "source": [
    "# Convert class labels to one-hot encoded vectors\n",
    "from tensorflow.keras.utils import to_categorical\n",
    "y_train = to_categorical(y_train)\n",
    "y_test = to_categorical(y_test)"
   ]
  },
  {
   "cell_type": "code",
   "execution_count": 6,
   "id": "d4dcac44",
   "metadata": {},
   "outputs": [],
   "source": [
    "# Define the Pure ANN model with less than 10,000 trainable parameters\n",
    "model = Sequential()\n",
    "model.add(Dense(512, activation='relu', input_shape=(28 * 28,)))  # First layer with 512 neurons\n",
    "model.add(Dense(128, activation='relu'))  # Second layer with 128 neurons\n",
    "model.add(Dense(10, activation='softmax'))  # Output layer with 10 neurons (one for each digit class)"
   ]
  },
  {
   "cell_type": "code",
   "execution_count": 7,
   "id": "13155001",
   "metadata": {},
   "outputs": [],
   "source": [
    "# Compile the model\n",
    "model.compile(loss='categorical_crossentropy', optimizer=Adam(learning_rate=0.001), metrics=['accuracy'])"
   ]
  },
  {
   "cell_type": "code",
   "execution_count": 8,
   "id": "417b129f",
   "metadata": {},
   "outputs": [
    {
     "name": "stdout",
     "output_type": "stream",
     "text": [
      "Epoch 1/10\n",
      "469/469 [==============================] - 4s 6ms/step - loss: 0.2393 - accuracy: 0.9304 - val_loss: 0.1190 - val_accuracy: 0.9643\n",
      "Epoch 2/10\n",
      "469/469 [==============================] - 3s 6ms/step - loss: 0.0895 - accuracy: 0.9726 - val_loss: 0.0805 - val_accuracy: 0.9744\n",
      "Epoch 3/10\n",
      "469/469 [==============================] - 3s 6ms/step - loss: 0.0550 - accuracy: 0.9829 - val_loss: 0.0694 - val_accuracy: 0.9786\n",
      "Epoch 4/10\n",
      "469/469 [==============================] - 3s 6ms/step - loss: 0.0391 - accuracy: 0.9880 - val_loss: 0.0666 - val_accuracy: 0.9794\n",
      "Epoch 5/10\n",
      "469/469 [==============================] - 3s 6ms/step - loss: 0.0278 - accuracy: 0.9909 - val_loss: 0.0712 - val_accuracy: 0.9795\n",
      "Epoch 6/10\n",
      "469/469 [==============================] - 3s 6ms/step - loss: 0.0218 - accuracy: 0.9935 - val_loss: 0.0672 - val_accuracy: 0.9808\n",
      "Epoch 7/10\n",
      "469/469 [==============================] - 3s 6ms/step - loss: 0.0191 - accuracy: 0.9936 - val_loss: 0.0716 - val_accuracy: 0.9813\n",
      "Epoch 8/10\n",
      "469/469 [==============================] - 3s 7ms/step - loss: 0.0140 - accuracy: 0.9956 - val_loss: 0.0717 - val_accuracy: 0.9811\n",
      "Epoch 9/10\n",
      "469/469 [==============================] - 3s 6ms/step - loss: 0.0146 - accuracy: 0.9953 - val_loss: 0.1071 - val_accuracy: 0.9749\n",
      "Epoch 10/10\n",
      "469/469 [==============================] - 3s 6ms/step - loss: 0.0128 - accuracy: 0.9958 - val_loss: 0.0878 - val_accuracy: 0.9792\n"
     ]
    },
    {
     "data": {
      "text/plain": [
       "<keras.src.callbacks.History at 0x1b63652f700>"
      ]
     },
     "execution_count": 8,
     "metadata": {},
     "output_type": "execute_result"
    }
   ],
   "source": [
    "# Train the model \n",
    "model.fit(x_train, y_train, epochs=10, batch_size=128, validation_data=(x_test, y_test))\n"
   ]
  },
  {
   "cell_type": "code",
   "execution_count": 9,
   "id": "c33c8425",
   "metadata": {},
   "outputs": [
    {
     "name": "stdout",
     "output_type": "stream",
     "text": [
      "313/313 [==============================] - 1s 2ms/step - loss: 0.0878 - accuracy: 0.9792\n",
      "Test accuracy: 0.979200005531311\n"
     ]
    }
   ],
   "source": [
    "# Evaluate the model on test data\n",
    "test_loss, test_acc = model.evaluate(x_test, y_test)\n",
    "print('Test accuracy:', test_acc)\n"
   ]
  },
  {
   "cell_type": "code",
   "execution_count": 10,
   "id": "385ae9d0",
   "metadata": {},
   "outputs": [
    {
     "name": "stdout",
     "output_type": "stream",
     "text": [
      "Total trainable parameters: 468874\n"
     ]
    }
   ],
   "source": [
    "# Count the total number of trainable parameters\n",
    "total_params = model.count_params()\n",
    "print('Total trainable parameters:', total_params)"
   ]
  }
 ],
 "metadata": {
  "kernelspec": {
   "display_name": "Python 3 (ipykernel)",
   "language": "python",
   "name": "python3"
  },
  "language_info": {
   "codemirror_mode": {
    "name": "ipython",
    "version": 3
   },
   "file_extension": ".py",
   "mimetype": "text/x-python",
   "name": "python",
   "nbconvert_exporter": "python",
   "pygments_lexer": "ipython3",
   "version": "3.9.7"
  }
 },
 "nbformat": 4,
 "nbformat_minor": 5
}
